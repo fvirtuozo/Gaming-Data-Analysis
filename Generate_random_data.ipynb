{
 "cells": [
  {
   "cell_type": "code",
   "execution_count": 31,
   "metadata": {},
   "outputs": [],
   "source": [
    "import pandas as pd\n",
    "import numpy as np\n",
    "from faker import Faker\n",
    "import random\n",
    "from datetime import datetime, timedelta\n",
    "import sqlite3\n"
   ]
  },
  {
   "cell_type": "code",
   "execution_count": 32,
   "metadata": {},
   "outputs": [],
   "source": [
    "fake = Faker()\n",
    "np.random.seed(42)"
   ]
  },
  {
   "cell_type": "code",
   "execution_count": 33,
   "metadata": {},
   "outputs": [],
   "source": [
    "#Parameters\n",
    "num_players = 1000\n",
    "num_bets = 10000\n",
    "num_games = 50\n",
    "num_transactions = 5000\n",
    "countries = ['USA', 'Canada', 'UK', 'Germany', 'France', 'Italy', 'Spain', 'Australia', 'India', 'China']\n",
    "devices = ['Mobile', 'Desktop', 'Tablet']\n",
    "game_types = ['Slots', 'Table Games', 'Live Casino', 'Sports Betting']\n",
    "providers = ['NetEnt', 'Evolution', 'Microgaming', 'Playtech']\n",
    "volatility_levels = ['low', 'medium', 'high']\n",
    "transaction_types = ['deposit', 'withdrawal', 'bonus', 'refund']\n",
    "payment_methods = ['credit_card', 'paypal', 'bank_transfer', 'crypto']"
   ]
  },
  {
   "cell_type": "code",
   "execution_count": 34,
   "metadata": {},
   "outputs": [],
   "source": [
    "#generate player data\n",
    "players = []\n",
    "for i in range(1, num_players + 1):\n",
    "    players.append({\n",
    "        'player_id': i,\n",
    "        'registration_date': fake.date_between(start_date='-2y', end_date='today'),\n",
    "        'country': random.choice(countries),\n",
    "        'age': random.randint(18, 70),\n",
    "        'device': random.choice(devices)\n",
    "    })\n",
    "\n",
    "players_df = pd.DataFrame(players)"
   ]
  },
  {
   "cell_type": "code",
   "execution_count": 35,
   "metadata": {},
   "outputs": [],
   "source": [
    "# -------- Introduce Broken Data in Players --------\n",
    "# Randomly make 5% of the 'age' column invalid (e.g., set negative or unrealistic values)\n",
    "players_df.loc[players_df.sample(frac=0.05).index, 'age'] = -1\n",
    "\n",
    "# Randomly set 5% of 'country' to None (null) to simulate missing data\n",
    "players_df.loc[players_df.sample(frac=0.05).index, 'country'] = None"
   ]
  },
  {
   "cell_type": "code",
   "execution_count": 36,
   "metadata": {},
   "outputs": [],
   "source": [
    "games = []\n",
    "for game_id in range(1, num_games + 1):\n",
    "    games.append({\n",
    "        'game_id': game_id,\n",
    "        'game_type': random.choice(game_types),\n",
    "        'provider': random.choice(providers),\n",
    "        'volatility': random.choice(volatility_levels),\n",
    "        'release_date': fake.date_between(start_date='-5y', end_date='today'),\n",
    "        'rtp': random.uniform(0.85, 0.98)\n",
    "    })\n",
    "\n",
    "games_df = pd.DataFrame(games)"
   ]
  },
  {
   "cell_type": "code",
   "execution_count": 37,
   "metadata": {},
   "outputs": [
    {
     "name": "stderr",
     "output_type": "stream",
     "text": [
      "C:\\Users\\Fernanda\\AppData\\Local\\Temp\\ipykernel_16436\\1110509575.py:2: FutureWarning: Setting an item of incompatible dtype is deprecated and will raise an error in a future version of pandas. Value 'invalid' has dtype incompatible with float64, please explicitly cast to a compatible dtype first.\n",
      "  games_df.loc[games_df.sample(frac=0.20).index, 'rtp'] = 'invalid'\n"
     ]
    }
   ],
   "source": [
    "# Randomly set 10% of 'rtp' values to a string or invalid number\n",
    "games_df.loc[games_df.sample(frac=0.20).index, 'rtp'] = 'invalid'"
   ]
  },
  {
   "cell_type": "code",
   "execution_count": 38,
   "metadata": {},
   "outputs": [],
   "source": [
    "#Generate bet data\n",
    "bets = []\n",
    "for i in range(1, num_bets + 1):\n",
    "    player = random.choice(players_df['player_id'])\n",
    "    game_id = random.choice(games_df['game_id'])\n",
    "    bet_time = fake.date_time_between(start_date='-1y', end_date='now')\n",
    "    bet_amount = round(random.uniform(1, 1000), 2)\n",
    "    win_amount = round(bet_amount * random.choice([0, 0, 0, 1, 2, 1.5, 5]), 2)\n",
    "    bets.append({\n",
    "        'bet_id': i,\n",
    "        'player_id': player,\n",
    "        'bet_time': bet_time,\n",
    "        'game_id': game_id,\n",
    "        'bet_amount': bet_amount,\n",
    "        'win_amount': win_amount\n",
    "    })\n",
    "\n",
    "bets_df = pd.DataFrame(bets)"
   ]
  },
  {
   "cell_type": "code",
   "execution_count": 39,
   "metadata": {},
   "outputs": [],
   "source": [
    "# -------- Introduce Broken Data in Bets --------\n",
    "# Randomly add negative bets (which should be impossible in the real world)\n",
    "bets_df.loc[bets_df.sample(frac=0.02).index, 'bet_amount'] = -abs(bets_df['bet_amount'])"
   ]
  },
  {
   "cell_type": "code",
   "execution_count": 40,
   "metadata": {},
   "outputs": [],
   "source": [
    "#transactions\n",
    "transactions =[]\n",
    "for trans_id in range(1, num_transactions +1):\n",
    "    player_id = random.choice(players_df['player_id'])\n",
    "    transaction_time = fake.date_time_between(start_date='-1y', end_date='now')\n",
    "    transaction_type = random.choices(transaction_types, weights=[0.5, 0.2, 0.2, 0.1])\n",
    "    transaction_amount = round(random.uniform(1, 1000), 2)\n",
    "    payment_method = random.choice(payment_methods)\n",
    "\n",
    "    if transaction_type in ['withdrawal', 'refund']:\n",
    "        transaction_amount = -transaction_amount\n",
    "    \n",
    "    transactions.append({\n",
    "        'transactio_id': trans_id,\n",
    "        'player_id': player_id,\n",
    "        'transaction_time': transaction_time,\n",
    "        'transaction_type': transaction_type,\n",
    "        'transaction_amount': transaction_amount,\n",
    "        'payment_method': payment_method\n",
    "    })\n",
    "    transactions_df = pd.DataFrame(transactions)"
   ]
  },
  {
   "cell_type": "code",
   "execution_count": 41,
   "metadata": {},
   "outputs": [],
   "source": [
    "# Randomly make 50% of the 'amount' column NaN (missing data)\n",
    "transactions_df.loc[transactions_df.sample(frac=0.50).index, 'amount'] = np.nan"
   ]
  },
  {
   "cell_type": "code",
   "execution_count": 42,
   "metadata": {},
   "outputs": [],
   "source": [
    "import json\n",
    "transactions_df['transaction_type'] = transactions_df['transaction_type'].apply(lambda x: json.dumps(x[0]))"
   ]
  },
  {
   "cell_type": "code",
   "execution_count": 43,
   "metadata": {},
   "outputs": [],
   "source": [
    "#Generate game sessions\n",
    "sessions = []\n",
    "for session_id in range(1, num_bets + 1):\n",
    "    player = random.choice(players_df['player_id'])\n",
    "    game = random.choice(games_df['game_id'])\n",
    "    session_start = fake.date_time_between(start_date='-1y', end_date='now')\n",
    "    session_end = session_start + timedelta(minutes=random.randint(5, 120))\n",
    "    bet_amount = round(random.uniform(1, 1000), 2)\n",
    "    win_amount = round(bet_amount * random.choice([0, 0, 0, 1, 2, 1.5, 5]), 2)\n",
    "    \n",
    "    sessions.append({\n",
    "        'session_id': session_id,\n",
    "        'player_id': player,\n",
    "        'game_id': game,\n",
    "        'session_start': session_start,\n",
    "        'session_end': session_end,\n",
    "        'bet_amount': bet_amount,\n",
    "        'win_amount': win_amount\n",
    "    })\n",
    "\n",
    "sessions_df = pd.DataFrame(sessions)"
   ]
  },
  {
   "cell_type": "code",
   "execution_count": 44,
   "metadata": {},
   "outputs": [],
   "source": [
    "# Randomly duplicate some session rows\n",
    "sessions_df = pd.concat([sessions_df, sessions_df.sample(frac=0.05)])"
   ]
  },
  {
   "cell_type": "code",
   "execution_count": 45,
   "metadata": {},
   "outputs": [
    {
     "ename": "SyntaxError",
     "evalue": "invalid syntax (1043537214.py, line 11)",
     "output_type": "error",
     "traceback": [
      "  \u001b[36mCell\u001b[39m\u001b[36m \u001b[39m\u001b[32mIn[45]\u001b[39m\u001b[32m, line 11\u001b[39m\n\u001b[31m    \u001b[39m\u001b[31m'game_id': game_id,!\u001b[39m\n                       ^\n\u001b[31mSyntaxError\u001b[39m\u001b[31m:\u001b[39m invalid syntax\n"
     ]
    }
   ],
   "source": [
    "campaign_names = ['Welcome Bonus', 'Free Spins', 'VIP Reward', 'Cashback Offer']\n",
    "num_campaigns = 800\n",
    "campaigns = []\n",
    "for campaign_id in range(1, num_campaigns + 1):\n",
    "    player_id = random.choice(players_df['player_id'])\n",
    "    assigned_at = fake.date_time_between(start_date='-1y', end_date='now')\n",
    "    game_id = random.choice(games_df['game_id'])\n",
    "    campaigns.append({\n",
    "        'campaign_id': campaign_id,\n",
    "        'player_id': player_id,\n",
    "        'game_id': game_id,!\n",
    "        'name': random.choice(campaign_names),\n",
    "        'reward': round(random.uniform(5, 100), 2),\n",
    "        'assigned_at': assigned_at,\n",
    "        'redeemed': random.choice([True, False])\n",
    "    })\n",
    "campaigns_df = pd.DataFrame(campaigns)"
   ]
  },
  {
   "cell_type": "code",
   "execution_count": null,
   "metadata": {},
   "outputs": [],
   "source": [
    "# Randomly insert missing player_id (which doesn't exist)\n",
    "campaigns_df.loc[campaigns_df.sample(frac=0.03).index, 'player_id'] = -1"
   ]
  },
  {
   "cell_type": "code",
   "execution_count": null,
   "metadata": {},
   "outputs": [
    {
     "data": {
      "text/plain": [
       "800"
      ]
     },
     "execution_count": 18,
     "metadata": {},
     "output_type": "execute_result"
    }
   ],
   "source": [
    "# -------- Save to SQLite database --------\n",
    "conn = sqlite3.connect(\"gaming_data_full.db\")  # Saves in current working directory\n",
    "players_df.to_sql(\"players\", conn, index=False, if_exists=\"replace\")\n",
    "bets_df.to_sql(\"bets\", conn, index=False, if_exists=\"replace\")\n",
    "games_df.to_sql(\"games\", conn, index=False, if_exists=\"replace\")\n",
    "transactions_df.to_sql(\"transactions\", conn, index=False, if_exists=\"replace\")\n",
    "sessions_df.to_sql(\"sessions\", conn, index=False, if_exists=\"replace\")\n",
    "campaigns_df.to_sql(\"campaigns\", conn, index=False, if_exists=\"replace\")"
   ]
  },
  {
   "cell_type": "code",
   "execution_count": null,
   "metadata": {},
   "outputs": [],
   "source": [
    "# Connect to the SQLite database\n",
    "conn_sqlite = sqlite3.connect(\"gaming_data_full.db\")\n",
    "\n",
    "# List of tables to export\n",
    "tables = [\"players\", \"bets\", \"games\", \"transactions\", \"sessions\", \"campaigns\"]\n",
    "\n",
    "# Export each table to a CSV\n",
    "for table in tables:\n",
    "    df = pd.read_sql(f\"SELECT * FROM {table}\", conn_sqlite)\n",
    "    df.to_csv(f\"{table}.csv\", index=False)\n",
    "\n",
    "# Close SQLite connection\n",
    "conn_sqlite.close()"
   ]
  },
  {
   "cell_type": "code",
   "execution_count": null,
   "metadata": {},
   "outputs": [
    {
     "data": {
      "text/html": [
       "<div>\n",
       "<style scoped>\n",
       "    .dataframe tbody tr th:only-of-type {\n",
       "        vertical-align: middle;\n",
       "    }\n",
       "\n",
       "    .dataframe tbody tr th {\n",
       "        vertical-align: top;\n",
       "    }\n",
       "\n",
       "    .dataframe thead th {\n",
       "        text-align: right;\n",
       "    }\n",
       "</style>\n",
       "<table border=\"1\" class=\"dataframe\">\n",
       "  <thead>\n",
       "    <tr style=\"text-align: right;\">\n",
       "      <th></th>\n",
       "      <th>campaign_id</th>\n",
       "      <th>player_id</th>\n",
       "      <th>name</th>\n",
       "      <th>reward</th>\n",
       "      <th>assigned_at</th>\n",
       "      <th>redeemed</th>\n",
       "    </tr>\n",
       "  </thead>\n",
       "  <tbody>\n",
       "    <tr>\n",
       "      <th>0</th>\n",
       "      <td>1</td>\n",
       "      <td>843</td>\n",
       "      <td>VIP Reward</td>\n",
       "      <td>76.32</td>\n",
       "      <td>2025-03-20 03:09:14</td>\n",
       "      <td>False</td>\n",
       "    </tr>\n",
       "    <tr>\n",
       "      <th>1</th>\n",
       "      <td>2</td>\n",
       "      <td>117</td>\n",
       "      <td>Free Spins</td>\n",
       "      <td>98.89</td>\n",
       "      <td>2025-02-08 03:24:13</td>\n",
       "      <td>False</td>\n",
       "    </tr>\n",
       "    <tr>\n",
       "      <th>2</th>\n",
       "      <td>3</td>\n",
       "      <td>292</td>\n",
       "      <td>Welcome Bonus</td>\n",
       "      <td>17.87</td>\n",
       "      <td>2024-05-22 14:19:31</td>\n",
       "      <td>True</td>\n",
       "    </tr>\n",
       "    <tr>\n",
       "      <th>3</th>\n",
       "      <td>4</td>\n",
       "      <td>785</td>\n",
       "      <td>Free Spins</td>\n",
       "      <td>52.72</td>\n",
       "      <td>2024-06-22 17:02:23</td>\n",
       "      <td>True</td>\n",
       "    </tr>\n",
       "    <tr>\n",
       "      <th>4</th>\n",
       "      <td>5</td>\n",
       "      <td>-1</td>\n",
       "      <td>Free Spins</td>\n",
       "      <td>5.59</td>\n",
       "      <td>2025-03-17 14:00:20</td>\n",
       "      <td>False</td>\n",
       "    </tr>\n",
       "    <tr>\n",
       "      <th>...</th>\n",
       "      <td>...</td>\n",
       "      <td>...</td>\n",
       "      <td>...</td>\n",
       "      <td>...</td>\n",
       "      <td>...</td>\n",
       "      <td>...</td>\n",
       "    </tr>\n",
       "    <tr>\n",
       "      <th>795</th>\n",
       "      <td>796</td>\n",
       "      <td>130</td>\n",
       "      <td>Welcome Bonus</td>\n",
       "      <td>73.24</td>\n",
       "      <td>2024-06-09 12:46:34</td>\n",
       "      <td>False</td>\n",
       "    </tr>\n",
       "    <tr>\n",
       "      <th>796</th>\n",
       "      <td>797</td>\n",
       "      <td>382</td>\n",
       "      <td>Welcome Bonus</td>\n",
       "      <td>66.90</td>\n",
       "      <td>2024-11-12 23:17:38</td>\n",
       "      <td>False</td>\n",
       "    </tr>\n",
       "    <tr>\n",
       "      <th>797</th>\n",
       "      <td>798</td>\n",
       "      <td>229</td>\n",
       "      <td>VIP Reward</td>\n",
       "      <td>17.02</td>\n",
       "      <td>2024-09-21 18:05:52</td>\n",
       "      <td>False</td>\n",
       "    </tr>\n",
       "    <tr>\n",
       "      <th>798</th>\n",
       "      <td>799</td>\n",
       "      <td>538</td>\n",
       "      <td>Welcome Bonus</td>\n",
       "      <td>67.54</td>\n",
       "      <td>2024-08-14 23:51:04</td>\n",
       "      <td>True</td>\n",
       "    </tr>\n",
       "    <tr>\n",
       "      <th>799</th>\n",
       "      <td>800</td>\n",
       "      <td>923</td>\n",
       "      <td>Free Spins</td>\n",
       "      <td>79.67</td>\n",
       "      <td>2024-12-23 17:03:05</td>\n",
       "      <td>True</td>\n",
       "    </tr>\n",
       "  </tbody>\n",
       "</table>\n",
       "<p>800 rows × 6 columns</p>\n",
       "</div>"
      ],
      "text/plain": [
       "     campaign_id  player_id           name  reward         assigned_at  \\\n",
       "0              1        843     VIP Reward   76.32 2025-03-20 03:09:14   \n",
       "1              2        117     Free Spins   98.89 2025-02-08 03:24:13   \n",
       "2              3        292  Welcome Bonus   17.87 2024-05-22 14:19:31   \n",
       "3              4        785     Free Spins   52.72 2024-06-22 17:02:23   \n",
       "4              5         -1     Free Spins    5.59 2025-03-17 14:00:20   \n",
       "..           ...        ...            ...     ...                 ...   \n",
       "795          796        130  Welcome Bonus   73.24 2024-06-09 12:46:34   \n",
       "796          797        382  Welcome Bonus   66.90 2024-11-12 23:17:38   \n",
       "797          798        229     VIP Reward   17.02 2024-09-21 18:05:52   \n",
       "798          799        538  Welcome Bonus   67.54 2024-08-14 23:51:04   \n",
       "799          800        923     Free Spins   79.67 2024-12-23 17:03:05   \n",
       "\n",
       "     redeemed  \n",
       "0       False  \n",
       "1       False  \n",
       "2        True  \n",
       "3        True  \n",
       "4       False  \n",
       "..        ...  \n",
       "795     False  \n",
       "796     False  \n",
       "797     False  \n",
       "798      True  \n",
       "799      True  \n",
       "\n",
       "[800 rows x 6 columns]"
      ]
     },
     "execution_count": 30,
     "metadata": {},
     "output_type": "execute_result"
    }
   ],
   "source": [
    "campaigns_df\n"
   ]
  },
  {
   "cell_type": "code",
   "execution_count": null,
   "metadata": {},
   "outputs": [],
   "source": []
  }
 ],
 "metadata": {
  "kernelspec": {
   "display_name": ".venv",
   "language": "python",
   "name": "python3"
  },
  "language_info": {
   "codemirror_mode": {
    "name": "ipython",
    "version": 3
   },
   "file_extension": ".py",
   "mimetype": "text/x-python",
   "name": "python",
   "nbconvert_exporter": "python",
   "pygments_lexer": "ipython3",
   "version": "3.12.3"
  }
 },
 "nbformat": 4,
 "nbformat_minor": 2
}
